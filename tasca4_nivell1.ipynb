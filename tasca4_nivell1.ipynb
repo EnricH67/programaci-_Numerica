{
 "cells": [
  {
   "cell_type": "markdown",
   "metadata": {},
   "source": [
    "# TASCA4\n",
    "\n",
    "## NIVELL 1\n",
    "\n",
    "### *Exercici 1*"
   ]
  },
  {
   "cell_type": "markdown",
   "metadata": {},
   "source": [
    "+ Crea una funció que donat un Array d’una dimensió, et faci un resum estadístic bàsic de les dades. Si detecta que l’array té més d’una dimensió, ha de mostrar un missatge d’error."
   ]
  },
  {
   "cell_type": "code",
   "execution_count": 1,
   "metadata": {},
   "outputs": [],
   "source": [
    "import numpy as np"
   ]
  },
  {
   "cell_type": "code",
   "execution_count": 2,
   "metadata": {},
   "outputs": [],
   "source": [
    "from numpy import random"
   ]
  },
  {
   "cell_type": "code",
   "execution_count": 3,
   "metadata": {},
   "outputs": [],
   "source": [
    "from statistics import mode"
   ]
  },
  {
   "cell_type": "markdown",
   "metadata": {},
   "source": [
    "+ *Primer s'ha de crear l'array*"
   ]
  },
  {
   "cell_type": "code",
   "execution_count": 4,
   "metadata": {},
   "outputs": [],
   "source": [
    "arr = np.random.randint(1, 20, 15)"
   ]
  },
  {
   "cell_type": "code",
   "execution_count": 5,
   "metadata": {},
   "outputs": [
    {
     "data": {
      "text/plain": [
       "array([ 8,  1,  9, 16, 18, 14, 17, 13,  1, 10,  7, 13, 15, 13, 17])"
      ]
     },
     "execution_count": 5,
     "metadata": {},
     "output_type": "execute_result"
    }
   ],
   "source": [
    "arr"
   ]
  },
  {
   "cell_type": "code",
   "execution_count": 6,
   "metadata": {},
   "outputs": [],
   "source": [
    "def statistics_basics(arr):\n",
    "    if arr.ndim > 1:\n",
    "        print('Error: L\\'array té mes d\\'una dimensió')\n",
    "    else:\n",
    "        arr = np.sort(arr)\n",
    "        print('The mean of the array is {}'.format(np.mean(arr))) \n",
    "        print('The median of the array is {}'.format(np.median(arr)))\n",
    "        print('The mode of the array is {}'.format(mode(arr)))\n",
    "        print('The variance of the array is {}'.format(arr.var()))\n",
    "        print('The standard deviation of the array is {}'.format(arr.std()))"
   ]
  },
  {
   "cell_type": "code",
   "execution_count": 7,
   "metadata": {},
   "outputs": [
    {
     "name": "stdout",
     "output_type": "stream",
     "text": [
      "The mean of the array is 11.466666666666667\n",
      "The median of the array is 13.0\n",
      "The mode of the array is 13\n",
      "The variance of the array is 27.315555555555548\n",
      "The standard deviation of the array is 5.226428566005236\n"
     ]
    }
   ],
   "source": [
    "statistics_basics(arr)"
   ]
  },
  {
   "cell_type": "markdown",
   "metadata": {},
   "source": [
    "### *Exercici 2*\n",
    "\n",
    "+ Crea una funció que et generi un quadrat NxN de nombres aleatoris entre el 0 i el 100."
   ]
  },
  {
   "cell_type": "code",
   "execution_count": 8,
   "metadata": {},
   "outputs": [],
   "source": [
    "from random import randint"
   ]
  },
  {
   "cell_type": "code",
   "execution_count": 9,
   "metadata": {},
   "outputs": [],
   "source": [
    "def matrix_generator():\n",
    "    y = int(input('Tria un numero del 1 al 10: '))\n",
    "    matriu_nxn = np.random.randint(1, 101, size = (y, y))\n",
    "    return matriu_nxn"
   ]
  },
  {
   "cell_type": "code",
   "execution_count": 10,
   "metadata": {
    "scrolled": true
   },
   "outputs": [
    {
     "name": "stdout",
     "output_type": "stream",
     "text": [
      "Tria un numero del 1 al 10: 4\n"
     ]
    },
    {
     "data": {
      "text/plain": [
       "array([[51, 79, 84, 59],\n",
       "       [64, 79, 82, 54],\n",
       "       [73, 88, 80, 31],\n",
       "       [29, 45, 69, 10]])"
      ]
     },
     "execution_count": 10,
     "metadata": {},
     "output_type": "execute_result"
    }
   ],
   "source": [
    "matrix_generator()"
   ]
  },
  {
   "cell_type": "markdown",
   "metadata": {},
   "source": [
    "### *Exercici 3*\n",
    "\n",
    "+ Crea una funció que donada una taula de dues dimensions, et calculi els totals per fila i els totals per columna.\n",
    "\n",
    "\n",
    "+ *OPCIÓ 1 - amb inputs i generació de matriu amb np.random.randint i paràmetres necessaris*"
   ]
  },
  {
   "cell_type": "code",
   "execution_count": 11,
   "metadata": {},
   "outputs": [],
   "source": [
    "def matriu_generador():\n",
    "    x = int(input('Tria un numero del 1 al 10: '))\n",
    "    y = int(input('Tria un numero del 1 al 10: '))\n",
    "    matriu_nxy = np.random.randint(1, 101, size = (x, y))\n",
    "    print('Els totals per fila són {}'.format(np.sum(matriu_nxy, axis=1)))\n",
    "    print('Els totals per columna són {}'.format(np.sum(matriu_nxy, axis=0)))\n",
    "    return matriu_nxy\n",
    "  "
   ]
  },
  {
   "cell_type": "code",
   "execution_count": 12,
   "metadata": {
    "scrolled": false
   },
   "outputs": [
    {
     "name": "stdout",
     "output_type": "stream",
     "text": [
      "Tria un numero del 1 al 10: 4\n",
      "Tria un numero del 1 al 10: 5\n",
      "Els totals per fila són [132 308 326 232]\n",
      "Els totals per columna són [182 191 276 189 160]\n"
     ]
    },
    {
     "data": {
      "text/plain": [
       "array([[19, 62, 20, 11, 20],\n",
       "       [82,  4, 86, 96, 40],\n",
       "       [39, 80, 96, 38, 73],\n",
       "       [42, 45, 74, 44, 27]])"
      ]
     },
     "execution_count": 12,
     "metadata": {},
     "output_type": "execute_result"
    }
   ],
   "source": [
    "matriu_generador()"
   ]
  },
  {
   "cell_type": "markdown",
   "metadata": {},
   "source": [
    "+ *OPCIÓ 2 - amb un loop for anidat que ompli una array buida declarada inicialment (matriu) que es va omplint de files*"
   ]
  },
  {
   "cell_type": "code",
   "execution_count": 13,
   "metadata": {},
   "outputs": [],
   "source": [
    "def omplir_matriu(x, y):\n",
    "    matriu = []\n",
    "    for r in range(x):\n",
    "        fila = []\n",
    "        for c in range(y):\n",
    "            fila.append(random.randint(1, 101))\n",
    "        matriu.append(fila)\n",
    "    print('Els totals per fila són {}'.format(np.sum(matriu, axis=1)))\n",
    "    print('Els totals per columna són {}'.format(np.sum(matriu, axis=0)))\n",
    "    return matriu"
   ]
  },
  {
   "cell_type": "code",
   "execution_count": 14,
   "metadata": {},
   "outputs": [
    {
     "name": "stdout",
     "output_type": "stream",
     "text": [
      "Els totals per fila són [264 225 353 177]\n",
      "Els totals per columna són [248 111 190 280 190]\n"
     ]
    },
    {
     "data": {
      "text/plain": [
       "[[45, 21, 49, 73, 76],\n",
       " [55, 14, 40, 93, 23],\n",
       " [100, 14, 75, 97, 67],\n",
       " [48, 62, 26, 17, 24]]"
      ]
     },
     "execution_count": 14,
     "metadata": {},
     "output_type": "execute_result"
    }
   ],
   "source": [
    "omplir_matriu(4,5)"
   ]
  },
  {
   "cell_type": "markdown",
   "metadata": {},
   "source": [
    "### *EXERCICI 4*\n",
    "\n",
    "+ Implementa manualment una funció que calculi el coeficient de correlació. Informa’t-en sobre els seus usos i interpretació"
   ]
  },
  {
   "cell_type": "markdown",
   "metadata": {},
   "source": [
    "+ Per fer l'exercici m'invento 2 arrays - la primera amb edats de nens i nenes d'una família i la segona amb les alçades \n",
    "   corresponents a cadascun dels infants.\n",
    "   \n",
    "   Un cop generades veurem quin és l'índex de correlació (\"r\"), que ens informa del comportament d'una de les variables en        relació a l'altra; amb una que trobarà tots els components de la fórmula de l'índex de correlació per poder aplicar-la*\n",
    "   \n",
    "   FORMULA : r = Sxy / Sx * Sy on : Sxy = (Sumatori Xi * Yi / N - mitjana x) * mitjana y\n",
    "                                Sx = \n",
    "                                Sy = \n",
    "   És a dir, l'índex de correlació entre les variables x, y és el cocient entre la covariança d'x,y;  i el producte de les    \n",
    "   respectives desviacions típiques.\n",
    "   \n",
    "   Podem trobar:\n",
    "   + una relació directa, que significa que quan una variable creix o decreix l'altra també ho fa (amb r > 0) \n",
    "   + una relació inversa, que significa que quan una variable creix o decreix l'altra fa el contrari (amb r < 0) \n",
    "   \n",
    "   Quan més \"a l'hora\" es comportin les dues variables, més a prop de 1 (cas relació directa) o de -1 (cas relació inversa) \n",
    "   serà \"r\""
   ]
  },
  {
   "cell_type": "code",
   "execution_count": 15,
   "metadata": {},
   "outputs": [],
   "source": [
    "edats = np.array([2, 5, 10, 13, 16])\n",
    "alçades = np.array([0.70, 0.85, 1.40, 1.60, 1.75])"
   ]
  },
  {
   "cell_type": "code",
   "execution_count": 16,
   "metadata": {},
   "outputs": [],
   "source": [
    "def index_corr(edats, alçades):\n",
    "    productes = np.multiply(edats, alçades)\n",
    "    print(productes)\n",
    "    suma_productes = np.sum(productes)\n",
    "    print(suma_productes)\n",
    "    edats_mean = np.sum(edats) / len(edats)\n",
    "    alçades_mean = np.sum(alçades) / len(alçades)\n",
    "    covar = (suma_productes / len(edats)) - (edats_mean*alçades_mean)\n",
    "    print(covar)\n",
    "    print(edats_mean, alçades_mean)\n",
    "    std_edats = ((np.sum(edats**2) / len(edats)) - edats_mean**2)** 0.5\n",
    "    print(std_edats)\n",
    "    std_alçades = ((np.sum(alçades**2) / len(alçades)) - alçades_mean**2)** 0.5\n",
    "    print(std_alçades)\n",
    "    result = covar/(std_edats*std_alçades)\n",
    "    return result\n",
    "    "
   ]
  },
  {
   "cell_type": "code",
   "execution_count": 17,
   "metadata": {},
   "outputs": [
    {
     "name": "stdout",
     "output_type": "stream",
     "text": [
      "[ 1.4   4.25 14.   20.8  28.  ]\n",
      "68.45\n",
      "2.0980000000000025\n",
      "9.2 1.26\n",
      "5.114684741017769\n",
      "0.41400483088968876\n",
      "index de correlació entre edats i alçades és : 0.9907890660431076\n"
     ]
    }
   ],
   "source": [
    "print('index de correlació entre edats i alçades és : {}'.format(index_corr(edats, alçades)))"
   ]
  },
  {
   "cell_type": "code",
   "execution_count": null,
   "metadata": {},
   "outputs": [],
   "source": []
  }
 ],
 "metadata": {
  "kernelspec": {
   "display_name": "Python 3",
   "language": "python",
   "name": "python3"
  },
  "language_info": {
   "codemirror_mode": {
    "name": "ipython",
    "version": 3
   },
   "file_extension": ".py",
   "mimetype": "text/x-python",
   "name": "python",
   "nbconvert_exporter": "python",
   "pygments_lexer": "ipython3",
   "version": "3.8.5"
  }
 },
 "nbformat": 4,
 "nbformat_minor": 4
}
